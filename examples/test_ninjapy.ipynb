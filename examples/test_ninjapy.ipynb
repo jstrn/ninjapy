{
 "cells": [
  {
   "cell_type": "code",
   "execution_count": 1,
   "metadata": {},
   "outputs": [],
   "source": [
    "from ninjapy import NinjaRMMClient\n",
    "import os\n",
    "from dotenv import load_dotenv\n",
    "\n",
    "load_dotenv()\n",
    "\n",
    "client = NinjaRMMClient(\n",
    "    token_url=os.getenv(\"NINJA_TOKEN_URL\",''),\n",
    "    client_id=os.getenv(\"NINJA_CLIENT_ID\",''),\n",
    "    client_secret=os.getenv(\"NINJA_CLIENT_SECRET\",''),\n",
    "    scope=\"monitoring management control\",\n",
    "    convert_timestamps=True\n",
    ")"
   ]
  },
  {
   "cell_type": "code",
   "execution_count": 2,
   "metadata": {},
   "outputs": [],
   "source": [
    "orgs = client.get_all_organizations_detailed()"
   ]
  },
  {
   "cell_type": "code",
   "execution_count": 3,
   "metadata": {},
   "outputs": [],
   "source": [
    "limacharlie = client.query_all_windows_services(name=\"rphcpsvc\")\n",
    "deepinstinct = client.query_all_windows_services(name=\"DeepMgmtService\")"
   ]
  },
  {
   "cell_type": "code",
   "execution_count": 4,
   "metadata": {},
   "outputs": [],
   "source": [
    "all_devices = client.get_all_devices()"
   ]
  },
  {
   "cell_type": "code",
   "execution_count": null,
   "metadata": {},
   "outputs": [],
   "source": [
    "for org in client.iter_all_organizations():\n",
    "    print(org['name'])"
   ]
  },
  {
   "cell_type": "code",
   "execution_count": 6,
   "metadata": {},
   "outputs": [],
   "source": [
    "os = client.query_all_operating_systems()"
   ]
  }
 ],
 "metadata": {
  "kernelspec": {
   "display_name": ".venv",
   "language": "python",
   "name": "python3"
  },
  "language_info": {
   "codemirror_mode": {
    "name": "ipython",
    "version": 3
   },
   "file_extension": ".py",
   "mimetype": "text/x-python",
   "name": "python",
   "nbconvert_exporter": "python",
   "pygments_lexer": "ipython3",
   "version": "3.13.2"
  }
 },
 "nbformat": 4,
 "nbformat_minor": 2
}
